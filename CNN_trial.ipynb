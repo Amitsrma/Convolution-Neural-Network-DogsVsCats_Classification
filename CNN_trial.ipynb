{
  "nbformat": 4,
  "nbformat_minor": 0,
  "metadata": {
    "colab": {
      "name": "CNN_trial.ipynb",
      "version": "0.3.2",
      "provenance": [],
      "collapsed_sections": []
    },
    "kernelspec": {
      "name": "python3",
      "display_name": "Python 3"
    },
    "accelerator": "GPU"
  },
  "cells": [
    {
      "cell_type": "code",
      "metadata": {
        "id": "EmjJRIfQjCQy",
        "colab_type": "code",
        "outputId": "43480d9b-5941-4e7b-ba01-3f2f9d3a5a61",
        "colab": {
          "base_uri": "https://localhost:8080/",
          "height": 34
        }
      },
      "source": [
        "!pip install -U -q PyDrive\n",
        "!ls"
      ],
      "execution_count": 0,
      "outputs": [
        {
          "output_type": "stream",
          "text": [
            "sample_data\n"
          ],
          "name": "stdout"
        }
      ]
    },
    {
      "cell_type": "code",
      "metadata": {
        "id": "WWoZEdbajHJG",
        "colab_type": "code",
        "colab": {}
      },
      "source": [
        "from google.colab import drive\n",
        "drive.mount('/drive/')"
      ],
      "execution_count": 0,
      "outputs": []
    },
    {
      "cell_type": "code",
      "metadata": {
        "id": "nqcl99LN_sQt",
        "colab_type": "code",
        "colab": {}
      },
      "source": [
        "import zipfile\n",
        "#this does not work for nested folders .i.e. if there is folder in folder in \n",
        "#folder in the zip file\n",
        "zip_ref = zipfile.ZipFile(\"xx/Colab_folder/train.zip\", 'r')\n",
        "zip_ref.extractall(\"xx/Colab_folder/\")\n",
        "zip_ref.close()\n",
        "\n",
        "zip_ref = zipfile.ZipFile(\"xx/Colab_folder/test1.zip\", 'r')\n",
        "zip_ref.extractall(\"xx/Colab_folder/\")\n",
        "zip_ref.close()"
      ],
      "execution_count": 0,
      "outputs": []
    },
    {
      "cell_type": "code",
      "metadata": {
        "id": "zVPwWpatVvob",
        "colab_type": "code",
        "outputId": "ef63dc27-5f9f-4e7f-8802-418d8040e9ec",
        "colab": {
          "base_uri": "https://localhost:8080/",
          "height": 33
        }
      },
      "source": [
        "!pip install tqdm"
      ],
      "execution_count": 0,
      "outputs": [
        {
          "output_type": "stream",
          "text": [
            "Requirement already satisfied: tqdm in /usr/local/lib/python3.6/dist-packages (4.28.1)\n"
          ],
          "name": "stdout"
        }
      ]
    },
    {
      "cell_type": "code",
      "metadata": {
        "id": "99tnHSRbl8KX",
        "colab_type": "code",
        "outputId": "27921377-fcfc-4444-bc69-62e3c1553bc6",
        "colab": {
          "base_uri": "https://localhost:8080/",
          "height": 736
        }
      },
      "source": [
        "import os\n",
        "import shutil\n",
        "from random import shuffle\n",
        "from tqdm import tqdm_notebook\n",
        "def organize_datasets(path_to_data, n=4000, ratio=0.2):\n",
        "    files = os.listdir(path_to_data)\n",
        "    files = [os.path.join(path_to_data, f) for f in files]\n",
        "    shuffle(files)\n",
        "    files = files[:n]\n",
        "    \n",
        "    n = int(len(files) * ratio)\n",
        "    val, train = files[:n], files[n:]\n",
        "\n",
        "\n",
        "#    shutil.rmtree('./train/')\n",
        "#    print('/train/ removed')\n",
        "\n",
        "    for c in ['dogs', 'cats']: \n",
        "        os.makedirs('xx/Colab_folder/train/{0}/'.format(c))\n",
        "        os.makedirs('xx/Colab_folder/validation/{0}/'.format(c))\n",
        "\n",
        "    print('folders created !')\n",
        "\n",
        "    for t in tqdm_notebook(train):\n",
        "        if 'cat' in t:\n",
        "            shutil.copy2(t, os.path.join('xx', 'Colab_folder','train', 'cats'))\n",
        "        else:\n",
        "            shutil.copy2(t, os.path.join('xx', 'Colab_folder', 'train', 'dogs'))\n",
        "     \n",
        "    for v in tqdm_notebook(val):\n",
        "        if 'cat' in v:\n",
        "            shutil.copy2(v, os.path.join('xx', 'Colab_folder', 'validation', 'cats'))\n",
        "        else:\n",
        "            shutil.copy2(v, os.path.join('xx', 'Colab_folder', 'validation', 'dogs'))\n",
        "            \n",
        "    print('Data copied!')\n",
        "\n",
        "import tensorflow as tf\n",
        "from tensorflow.keras.preprocessing.image import ImageDataGenerator\n",
        "from tensorflow.keras.models import Sequential\n",
        "from tensorflow.keras.layers import Dense\n",
        "from tensorflow.keras.layers import Dropout\n",
        "from tensorflow.keras.layers import Flatten\n",
        "from tensorflow.keras.optimizers import SGD\n",
        "from tensorflow.keras.layers import Conv2D\n",
        "from tensorflow.keras.layers import MaxPooling2D\n",
        "from tensorflow.keras.callbacks import Callback\n",
        "\n",
        "ratio = 0.2\n",
        "n = 25000\n",
        "\n",
        "batch_size = 32\n",
        "\n",
        "#organize_datasets('./xx/Colab_folder/train/',n,ratio)\n",
        "\n",
        "print('training data Image generator')\n",
        "train_datagen = ImageDataGenerator(rescale=1/255.,\n",
        "                                    shear_range=0.2,\n",
        "                                    zoom_range=0.2,\n",
        "                                    horizontal_flip=True\n",
        "                                    )\n",
        "print('validating data image generator')\n",
        "val_datagen = ImageDataGenerator(rescale=1/255.)\n",
        "\n",
        "print('getting train_generator')\n",
        "train_generator = train_datagen.flow_from_directory(\n",
        "        'xx/Colab_folder/train/',\n",
        "        target_size=(150, 150),\n",
        "        batch_size=batch_size,\n",
        "        class_mode='categorical')\n",
        "\n",
        "print('getting validation_generator')\n",
        "validation_generator = val_datagen.flow_from_directory(\n",
        "        'xx/Colab_folder/validation/',\n",
        "        target_size=(150, 150),\n",
        "        batch_size=batch_size,\n",
        "        class_mode='categorical')\n",
        "\n",
        "print('setting up model')\n",
        "model = Sequential()\n",
        "\n",
        "print('setting 1st convolutional layer')\n",
        "model.add(Conv2D(32, (3, 3), input_shape=(150, 150, 3), padding='same', activation='relu'))\n",
        "print('maxpooling')\n",
        "model.add(MaxPooling2D(pool_size=(2, 2)))\n",
        "\n",
        "print('setting 2nd convolutional layer')\n",
        "model.add(Conv2D(32, (3, 3), padding='same', activation='relu'))\n",
        "print('maxpooling')\n",
        "model.add(MaxPooling2D(pool_size=(2, 2)))\n",
        "\n",
        "print('setting 3rd convolutional layer')\n",
        "model.add(Conv2D(64, (3, 3), activation='relu', padding='same'))\n",
        "print('maxpooling')\n",
        "model.add(MaxPooling2D(pool_size=(2, 2)))\n",
        "\n",
        "model.add(Dropout(0.25))\n",
        "model.add(Flatten())\n",
        "model.add(Dense(64, activation='relu'))\n",
        "model.add(Dropout(0.5))\n",
        "model.add(Dense(2, activation='softmax'))\n",
        "\n",
        "epochs = 50\n",
        "lrate = 0.01\n",
        "decay = lrate/epochs\n",
        "sgd = SGD(lr=lrate, momentum=0.9, decay=decay, nesterov=False)\n",
        "model.compile(loss='binary_crossentropy', optimizer=sgd, metrics=['accuracy'])\n",
        "\n",
        "class LossHistory(Callback):\n",
        "    def on_train_begin(self, logs={}):\n",
        "        self.losses = []\n",
        "        self.val_losses = []\n",
        "        \n",
        "    def on_epoch_end(self, batch, logs={}):\n",
        "        self.losses.append(logs.get('loss'))\n",
        "        self.val_losses.append(logs.get('val_loss'))\n",
        "\n",
        "history = LossHistory()\n",
        "\n",
        "## Callback for early stopping the training\n",
        "early_stopping = tf.keras.callbacks.EarlyStopping(monitor='val_loss',\n",
        "                              min_delta=0,\n",
        "                              patience=2,\n",
        "                              verbose=0, mode='auto')\n",
        "\n",
        "fitted_model = model.fit_generator(\n",
        "        train_generator,\n",
        "        steps_per_epoch= int(n * (1-ratio)) // batch_size,\n",
        "        epochs=10,\n",
        "        validation_data=validation_generator,\n",
        "        validation_steps= int(n * ratio) // batch_size,\n",
        "        )"
      ],
      "execution_count": 0,
      "outputs": [
        {
          "output_type": "stream",
          "text": [
            "training data Image generator\n",
            "validating data image generator\n",
            "getting train_generator\n",
            "Found 20000 images belonging to 2 classes.\n",
            "getting validation_generator\n",
            "Found 5000 images belonging to 2 classes.\n",
            "setting up model\n",
            "setting 1st convolutional layer\n",
            "maxpooling\n",
            "setting 2nd convolutional layer\n",
            "maxpooling\n",
            "setting 2nd convolutional layer\n",
            "maxpooling\n",
            "Epoch 1/10\n",
            "157/157 [==============================] - 30s 189ms/step - loss: 0.6841 - acc: 0.5392\n",
            "625/625 [==============================] - 315s 503ms/step - loss: 0.6876 - acc: 0.5422 - val_loss: 0.6841 - val_acc: 0.5392\n",
            "Epoch 2/10\n",
            "157/157 [==============================] - 30s 191ms/step - loss: 0.5876 - acc: 0.6934\n",
            "625/625 [==============================] - 301s 481ms/step - loss: 0.6484 - acc: 0.6220 - val_loss: 0.5876 - val_acc: 0.6934\n",
            "Epoch 3/10\n",
            "157/157 [==============================] - 30s 188ms/step - loss: 0.5384 - acc: 0.7318\n",
            "625/625 [==============================] - 301s 482ms/step - loss: 0.5838 - acc: 0.6872 - val_loss: 0.5384 - val_acc: 0.7318\n",
            "Epoch 4/10\n",
            "157/157 [==============================] - 30s 189ms/step - loss: 0.5008 - acc: 0.7622\n",
            "625/625 [==============================] - 305s 488ms/step - loss: 0.5455 - acc: 0.7255 - val_loss: 0.5008 - val_acc: 0.7622\n",
            "Epoch 5/10\n",
            "157/157 [==============================] - 30s 193ms/step - loss: 0.4773 - acc: 0.7642\n",
            "625/625 [==============================] - 309s 495ms/step - loss: 0.5158 - acc: 0.7461 - val_loss: 0.4773 - val_acc: 0.7642\n",
            "Epoch 6/10\n",
            "157/157 [==============================] - 30s 193ms/step - loss: 0.4333 - acc: 0.7956\n",
            "625/625 [==============================] - 330s 527ms/step - loss: 0.4793 - acc: 0.7715 - val_loss: 0.4333 - val_acc: 0.7956\n",
            "Epoch 7/10\n",
            "157/157 [==============================] - 30s 191ms/step - loss: 0.4205 - acc: 0.8068\n",
            "625/625 [==============================] - 304s 487ms/step - loss: 0.4619 - acc: 0.7846 - val_loss: 0.4205 - val_acc: 0.8068\n",
            "Epoch 8/10\n",
            "157/157 [==============================] - 31s 196ms/step - loss: 0.4044 - acc: 0.8168\n",
            "625/625 [==============================] - 309s 495ms/step - loss: 0.4431 - acc: 0.7975 - val_loss: 0.4044 - val_acc: 0.8168\n",
            "Epoch 9/10\n",
            "157/157 [==============================] - 32s 204ms/step - loss: 0.3967 - acc: 0.8248\n",
            "625/625 [==============================] - 313s 502ms/step - loss: 0.4238 - acc: 0.8067 - val_loss: 0.3967 - val_acc: 0.8248\n",
            "Epoch 10/10\n",
            "157/157 [==============================] - 30s 193ms/step - loss: 0.4079 - acc: 0.8160\n",
            "625/625 [==============================] - 311s 498ms/step - loss: 0.4153 - acc: 0.8122 - val_loss: 0.4079 - val_acc: 0.8160\n"
          ],
          "name": "stdout"
        }
      ]
    },
    {
      "cell_type": "code",
      "metadata": {
        "id": "HOAP0lRrixjp",
        "colab_type": "code",
        "outputId": "d9a13313-b706-4dfb-dc11-9555b4c09fdd",
        "colab": {
          "base_uri": "https://localhost:8080/",
          "height": 34
        }
      },
      "source": [
        "!fusermount -u drive\n",
        "!google-drive-ocamlfuse drive"
      ],
      "execution_count": 0,
      "outputs": [
        {
          "output_type": "stream",
          "text": [
            "/bin/bash: google-drive-ocamlfuse: command not found\n"
          ],
          "name": "stdout"
        }
      ]
    },
    {
      "cell_type": "code",
      "metadata": {
        "id": "vcBnHssbbfiY",
        "colab_type": "code",
        "outputId": "e9bc1444-d400-4891-8acc-9ac3a0fbfc8a",
        "colab": {
          "base_uri": "https://localhost:8080/",
          "height": 33
        }
      },
      "source": [
        "!ls \"xx\"/Colab_folder"
      ],
      "execution_count": 0,
      "outputs": [
        {
          "output_type": "stream",
          "text": [
            "test1.zip  train.zip\n"
          ],
          "name": "stdout"
        }
      ]
    },
    {
      "cell_type": "code",
      "metadata": {
        "id": "0UAHHgbgl80f",
        "colab_type": "code",
        "outputId": "557d2e47-3677-4a66-840a-299ea2521503",
        "colab": {
          "base_uri": "https://localhost:8080/",
          "height": 33
        }
      },
      "source": [
        "!mkdir ~/Colab_folder/train"
      ],
      "execution_count": 0,
      "outputs": [
        {
          "output_type": "stream",
          "text": [
            "mkdir: cannot create directory ‘/root/Colab_folder/train’: No such file or directory\n"
          ],
          "name": "stdout"
        }
      ]
    },
    {
      "cell_type": "code",
      "metadata": {
        "id": "B7XcN7renobi",
        "colab_type": "code",
        "colab": {}
      },
      "source": [
        "!ls 'xx/Colab_folder/train'"
      ],
      "execution_count": 0,
      "outputs": []
    },
    {
      "cell_type": "code",
      "metadata": {
        "id": "hlTZ43eMrnXN",
        "colab_type": "code",
        "colab": {}
      },
      "source": [
        "shutil.rmtree(\"xx/Colab_folder/train/dogs\")"
      ],
      "execution_count": 0,
      "outputs": []
    }
  ]
}
